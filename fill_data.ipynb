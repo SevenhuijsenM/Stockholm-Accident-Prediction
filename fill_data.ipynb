{
 "cells": [
  {
   "cell_type": "code",
   "execution_count": 39,
   "metadata": {},
   "outputs": [],
   "source": [
    "import pandas as pd\n",
    "import requests\n",
    "import json\n",
    "import time\n",
    "import sys\n",
    "import os\n",
    "import datetime\n",
    "from dotenv import load_dotenv\n",
    "\n"
   ]
  },
  {
   "cell_type": "code",
   "execution_count": 3,
   "metadata": {},
   "outputs": [],
   "source": [
    "# Import the data\n",
    "df = pd.read_csv('incidents.csv')"
   ]
  },
  {
   "cell_type": "code",
   "execution_count": 5,
   "metadata": {},
   "outputs": [],
   "source": [
    "# Get only the incidents with no end date\n",
    "df = df[df['endTime'].isnull()]"
   ]
  },
  {
   "cell_type": "code",
   "execution_count": 6,
   "metadata": {},
   "outputs": [
    {
     "name": "stdout",
     "output_type": "stream",
     "text": [
      "28\n"
     ]
    }
   ],
   "source": [
    "# Print the length of this\n",
    "print(len(df))"
   ]
  },
  {
   "cell_type": "code",
   "execution_count": 40,
   "metadata": {},
   "outputs": [],
   "source": [
    "# Get the ID of the first incident\n",
    "id = df.iloc[0]['id']\n",
    "\n",
    "# Get the API key\n",
    "load_dotenv()\n",
    "API_KEY = os.getenv(\"API-KEY-TOMTOM\")"
   ]
  },
  {
   "cell_type": "code",
   "execution_count": 59,
   "metadata": {},
   "outputs": [],
   "source": [
    "\n",
    "api_params_incidents = {\n",
    "    'base_url': 'api.tomtom.com',\n",
    "    'API_KEY': API_KEY,\n",
    "    'min_lon': 18.00,\n",
    "    'max_lon': 18.16,\n",
    "    'min_lat': 59.25,\n",
    "    'max_lat': 59.40,\n",
    "    'version_number': 5,\n",
    "    'time_validity_filter': 'present',\n",
    "    'category_filter': '0%2C1%2C2%2C3%2C4%2C5%2C6%2C7%2C8%2C9%2C10%2C11%2C14',\n",
    "    'language': 'en-GB',\n",
    "    'fields': '%7Bincidents%7Btype%2Cgeometry%7Bcoordinates%7D%2Cproperties%7Bid%2CmagnitudeOfDelay%2Cevents%7Bdescription%2Ccode%2CiconCategory%7D%2CstartTime%2CendTime%7D%7D%7D'\n",
    "}\n",
    "\n",
    "# A function that calls the tomtom API and tries to obtain the end date\n",
    "def get_end_date(id, pars):\n",
    "\n",
    "    # Get the incident\n",
    "    url = f\"https://{pars['base_url']}/traffic/services/{pars['version_number']}/incidentDetails?key={pars['API_KEY']}&ids={id}\"\n",
    "    return json.loads(requests.get(url).text)"
   ]
  },
  {
   "cell_type": "code",
   "execution_count": 61,
   "metadata": {},
   "outputs": [
    {
     "name": "stdout",
     "output_type": "stream",
     "text": [
      "{'incidents': [{'type': 'Feature', 'properties': {'iconCategory': 9}, 'geometry': {'type': 'LineString', 'coordinates': [[18.0016484479, 59.2800620314], [18.001148216, 59.2802926928], [18.0007364969, 59.2804965487], [18.0006238441, 59.2805542241], [18.0001853029, 59.2807983268], [18.0001303176, 59.2808291553], [17.9998942832, 59.2809511844], [17.9992679874, 59.2812770644]]}}]}\n"
     ]
    }
   ],
   "source": [
    "# Get the \n",
    "data = get_end_date(\"9692391e0d61244f07bfc74faf47496e\", api_params_incidents)\n",
    "print(data)"
   ]
  },
  {
   "cell_type": "code",
   "execution_count": 45,
   "metadata": {},
   "outputs": [
    {
     "name": "stdout",
     "output_type": "stream",
     "text": [
      "{'incidents': [None]}\n"
     ]
    }
   ],
   "source": []
  }
 ],
 "metadata": {
  "kernelspec": {
   "display_name": "Python 3",
   "language": "python",
   "name": "python3"
  },
  "language_info": {
   "codemirror_mode": {
    "name": "ipython",
    "version": 3
   },
   "file_extension": ".py",
   "mimetype": "text/x-python",
   "name": "python",
   "nbconvert_exporter": "python",
   "pygments_lexer": "ipython3",
   "version": "3.11.6"
  }
 },
 "nbformat": 4,
 "nbformat_minor": 2
}
