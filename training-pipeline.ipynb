{
 "cells": [
  {
   "cell_type": "code",
   "execution_count": 1,
   "metadata": {},
   "outputs": [
    {
     "name": "stderr",
     "output_type": "stream",
     "text": [
      "C:\\Users\\ merlijn\\AppData\\Local\\Packages\\PythonSoftwareFoundation.Python.3.11_qbz5n2kfra8p0\\LocalCache\\local-packages\\Python311\\site-packages\\tqdm\\auto.py:21: TqdmWarning: IProgress not found. Please update jupyter and ipywidgets. See https://ipywidgets.readthedocs.io/en/stable/user_install.html\n",
      "  from .autonotebook import tqdm as notebook_tqdm\n"
     ]
    }
   ],
   "source": [
    "# Import packages that are useful\n",
    "import hopsworks\n",
    "from hsml.schema import Schema\n",
    "from hsml.model_schema import ModelSchema\n",
    "import joblib\n",
    "import os\n",
    "import pandas as pd\n",
    "import os\n",
    "import numpy as np\n",
    "from sklearn.linear_model import LinearRegression\n",
    "from sklearn.neural_network import MLPRegressor\n",
    "from sklearn.ensemble import RandomForestRegressor\n",
    "from sklearn.ensemble import GradientBoostingRegressor\n",
    "from sklearn.tree import DecisionTreeRegressor\n",
    "from sklearn.neighbors import KNeighborsRegressor\n",
    "from sklearn.svm import SVR\n",
    "from xgboost import XGBRegressor\n"
   ]
  },
  {
   "cell_type": "code",
   "execution_count": 2,
   "metadata": {},
   "outputs": [
    {
     "name": "stdout",
     "output_type": "stream",
     "text": [
      "Connected. Call `.close()` to terminate connection gracefully.\n",
      "\n",
      "Logged in to project, explore it here https://c.app.hopsworks.ai:443/p/194708\n",
      "Connected. Call `.close()` to terminate connection gracefully.\n"
     ]
    }
   ],
   "source": [
    "# Log into hopsworks\n",
    "project = hopsworks.login()\n",
    "fs = project.get_feature_store()\n"
   ]
  },
  {
   "cell_type": "code",
   "execution_count": 3,
   "metadata": {},
   "outputs": [],
   "source": [
    "# Get the feature store\n",
    "incidents_fg = fs.get_feature_group(name=\"sthlm_incidents\", version=2)\n",
    "query = incidents_fg.select_all()\n",
    "feature_view = fs.get_or_create_feature_view(name=\"incidents_view\", version=2, query=query, description=\"Incidents view\", labels=[\"duration\"])"
   ]
  },
  {
   "cell_type": "code",
   "execution_count": 4,
   "metadata": {},
   "outputs": [
    {
     "name": "stdout",
     "output_type": "stream",
     "text": [
      "Finished: Reading data from Hopsworks, using ArrowFlight (1.09s) \n"
     ]
    },
    {
     "name": "stderr",
     "output_type": "stream",
     "text": [
      "VersionWarning: Incremented version to `17`.\n"
     ]
    }
   ],
   "source": [
    "# Create a train, test and validation set from the feature view\n",
    "df_train, df_val, df_test, _, _, _ = feature_view.train_validation_test_split(test_size=0.1, validation_size=0.1)\n",
    "\n",
    "# Drop the id from the dataframes\n",
    "df_train = df_train.drop(columns=[\"id\", \"description\", \"starttime\", \"endtime\", \"type\"])\n",
    "df_val = df_val.drop(columns=[\"id\", \"description\", \"starttime\", \"endtime\", \"type\"])\n",
    "df_test = df_test.drop(columns=[\"id\", \"description\", \"starttime\", \"endtime\", \"type\"])"
   ]
  },
  {
   "cell_type": "code",
   "execution_count": 5,
   "metadata": {},
   "outputs": [
    {
     "data": {
      "text/html": [
       "<div>\n",
       "<style scoped>\n",
       "    .dataframe tbody tr th:only-of-type {\n",
       "        vertical-align: middle;\n",
       "    }\n",
       "\n",
       "    .dataframe tbody tr th {\n",
       "        vertical-align: top;\n",
       "    }\n",
       "\n",
       "    .dataframe thead th {\n",
       "        text-align: right;\n",
       "    }\n",
       "</style>\n",
       "<table border=\"1\" class=\"dataframe\">\n",
       "  <thead>\n",
       "    <tr style=\"text-align: right;\">\n",
       "      <th></th>\n",
       "      <th>code</th>\n",
       "      <th>hour</th>\n",
       "      <th>iconcategory</th>\n",
       "      <th>latitude</th>\n",
       "      <th>longitude</th>\n",
       "      <th>magnitudeofdelay</th>\n",
       "      <th>month</th>\n",
       "      <th>duration</th>\n",
       "    </tr>\n",
       "  </thead>\n",
       "  <tbody>\n",
       "    <tr>\n",
       "      <th>0</th>\n",
       "      <td>108</td>\n",
       "      <td>12</td>\n",
       "      <td>6</td>\n",
       "      <td>59.347398</td>\n",
       "      <td>18.031019</td>\n",
       "      <td>2</td>\n",
       "      <td>12</td>\n",
       "      <td>9279.0</td>\n",
       "    </tr>\n",
       "    <tr>\n",
       "      <th>1</th>\n",
       "      <td>122</td>\n",
       "      <td>21</td>\n",
       "      <td>6</td>\n",
       "      <td>59.344153</td>\n",
       "      <td>18.023423</td>\n",
       "      <td>1</td>\n",
       "      <td>12</td>\n",
       "      <td>4574.0</td>\n",
       "    </tr>\n",
       "    <tr>\n",
       "      <th>2</th>\n",
       "      <td>101</td>\n",
       "      <td>11</td>\n",
       "      <td>6</td>\n",
       "      <td>59.333028</td>\n",
       "      <td>18.077410</td>\n",
       "      <td>3</td>\n",
       "      <td>12</td>\n",
       "      <td>4017.0</td>\n",
       "    </tr>\n",
       "    <tr>\n",
       "      <th>4</th>\n",
       "      <td>122</td>\n",
       "      <td>22</td>\n",
       "      <td>6</td>\n",
       "      <td>59.384649</td>\n",
       "      <td>18.005546</td>\n",
       "      <td>1</td>\n",
       "      <td>12</td>\n",
       "      <td>3886.0</td>\n",
       "    </tr>\n",
       "    <tr>\n",
       "      <th>7</th>\n",
       "      <td>115</td>\n",
       "      <td>14</td>\n",
       "      <td>6</td>\n",
       "      <td>59.263625</td>\n",
       "      <td>18.098405</td>\n",
       "      <td>1</td>\n",
       "      <td>12</td>\n",
       "      <td>3889.0</td>\n",
       "    </tr>\n",
       "  </tbody>\n",
       "</table>\n",
       "</div>"
      ],
      "text/plain": [
       "   code  hour  iconcategory   latitude  longitude  magnitudeofdelay  month  \\\n",
       "0   108    12             6  59.347398  18.031019                 2     12   \n",
       "1   122    21             6  59.344153  18.023423                 1     12   \n",
       "2   101    11             6  59.333028  18.077410                 3     12   \n",
       "4   122    22             6  59.384649  18.005546                 1     12   \n",
       "7   115    14             6  59.263625  18.098405                 1     12   \n",
       "\n",
       "   duration  \n",
       "0    9279.0  \n",
       "1    4574.0  \n",
       "2    4017.0  \n",
       "4    3886.0  \n",
       "7    3889.0  "
      ]
     },
     "execution_count": 5,
     "metadata": {},
     "output_type": "execute_result"
    }
   ],
   "source": [
    "df_train.head()"
   ]
  },
  {
   "cell_type": "code",
   "execution_count": 6,
   "metadata": {},
   "outputs": [],
   "source": [
    "y_train = df_train[\"duration\"]\n",
    "X_train = df_train.drop([\"duration\"], axis=1)\n",
    "y_val = df_val[\"duration\"]\n",
    "X_val = df_val.drop([\"duration\"], axis=1)\n",
    "y_test = df_test[\"duration\"]\n",
    "X_test = df_test.drop([\"duration\"], axis=1)\n"
   ]
  },
  {
   "cell_type": "markdown",
   "metadata": {},
   "source": [
    "# Linear Regression Model"
   ]
  },
  {
   "cell_type": "code",
   "execution_count": 7,
   "metadata": {},
   "outputs": [
    {
     "name": "stdout",
     "output_type": "stream",
     "text": [
      "0.1363090094078877\n",
      "-0.2366951795973986\n"
     ]
    }
   ],
   "source": [
    "# Try a linear regression model\n",
    "lr = LinearRegression()\n",
    "\n",
    "# train and test the model\n",
    "lr.fit(X_train, y_train)\n",
    "print(lr.score(X_train, y_train))\n",
    "print(lr.score(X_val, y_val))"
   ]
  },
  {
   "cell_type": "markdown",
   "metadata": {},
   "source": [
    "# Multi Layer Perceptron Model"
   ]
  },
  {
   "cell_type": "code",
   "execution_count": 8,
   "metadata": {},
   "outputs": [
    {
     "name": "stdout",
     "output_type": "stream",
     "text": [
      "-0.09181907124150723\n",
      "-0.7474810155197282\n"
     ]
    },
    {
     "name": "stderr",
     "output_type": "stream",
     "text": [
      "ConvergenceWarning: Stochastic Optimizer: Maximum iterations (200) reached and the optimization hasn't converged yet.\n"
     ]
    }
   ],
   "source": [
    "# Try a Multi-layer Perceptron regressor\n",
    "mlp = MLPRegressor()\n",
    "mlp.fit(X_train, y_train)\n",
    "print(mlp.score(X_train, y_train))\n",
    "print(mlp.score(X_val, y_val))"
   ]
  },
  {
   "cell_type": "markdown",
   "metadata": {},
   "source": [
    "# Random Forest Model"
   ]
  },
  {
   "cell_type": "code",
   "execution_count": 9,
   "metadata": {},
   "outputs": [
    {
     "name": "stdout",
     "output_type": "stream",
     "text": [
      "0.9400841927715294\n",
      "0.03241244471947169\n"
     ]
    }
   ],
   "source": [
    "# Try a Random Forest regressor\n",
    "rf = RandomForestRegressor()\n",
    "\n",
    "rf.fit(X_train, y_train)\n",
    "print(rf.score(X_train, y_train))\n",
    "print(rf.score(X_val, y_val))"
   ]
  },
  {
   "cell_type": "markdown",
   "metadata": {},
   "source": [
    "# Gradient Boosting Model"
   ]
  },
  {
   "cell_type": "code",
   "execution_count": 10,
   "metadata": {},
   "outputs": [
    {
     "name": "stdout",
     "output_type": "stream",
     "text": [
      "0.8558080122320826\n",
      "0.14588558219412062\n"
     ]
    }
   ],
   "source": [
    "# Try a Gradient Boosting regressor\n",
    "gb = GradientBoostingRegressor()\n",
    "gb.fit(X_train, y_train)\n",
    "print(gb.score(X_train, y_train))\n",
    "print(gb.score(X_val, y_val))"
   ]
  },
  {
   "cell_type": "markdown",
   "metadata": {},
   "source": [
    "# Decision Tree Model"
   ]
  },
  {
   "cell_type": "code",
   "execution_count": 11,
   "metadata": {},
   "outputs": [
    {
     "name": "stdout",
     "output_type": "stream",
     "text": [
      "0.9981475873690574\n",
      "-0.29308827987959885\n"
     ]
    }
   ],
   "source": [
    "# Try a Decision Tree regressor\n",
    "dt = DecisionTreeRegressor()\n",
    "dt.fit(X_train, y_train)\n",
    "print(dt.score(X_train, y_train))\n",
    "print(dt.score(X_val, y_val))"
   ]
  },
  {
   "cell_type": "markdown",
   "metadata": {},
   "source": [
    "# K-Nearest Neighbors regressor\n"
   ]
  },
  {
   "cell_type": "code",
   "execution_count": 12,
   "metadata": {},
   "outputs": [
    {
     "name": "stdout",
     "output_type": "stream",
     "text": [
      "0.7178008459497425\n",
      "0.020213349562758887\n"
     ]
    }
   ],
   "source": [
    "# Try a K-Nearest Neighbors regressor\n",
    "knn = KNeighborsRegressor()\n",
    "knn.fit(X_train, y_train)\n",
    "print(knn.score(X_train, y_train))\n",
    "print(knn.score(X_val, y_val))"
   ]
  },
  {
   "cell_type": "markdown",
   "metadata": {},
   "source": [
    "# Support Vector Machine regressor"
   ]
  },
  {
   "cell_type": "code",
   "execution_count": 13,
   "metadata": {},
   "outputs": [
    {
     "name": "stdout",
     "output_type": "stream",
     "text": [
      "-0.08233281937821801\n",
      "-0.20564894090953256\n"
     ]
    }
   ],
   "source": [
    "# Try a Support Vector Machine regressor\n",
    "svr = SVR()\n",
    "svr.fit(X_train, y_train)\n",
    "print(svr.score(X_train, y_train))\n",
    "print(svr.score(X_val, y_val))"
   ]
  },
  {
   "cell_type": "markdown",
   "metadata": {},
   "source": [
    "# Xgboost regressor\n"
   ]
  },
  {
   "cell_type": "code",
   "execution_count": 14,
   "metadata": {},
   "outputs": [
    {
     "name": "stdout",
     "output_type": "stream",
     "text": [
      "0.9944603885585702\n",
      "-0.30360504001925315\n"
     ]
    }
   ],
   "source": [
    "# Try a XGBoost regressor\n",
    "xgb = XGBRegressor()\n",
    "\n",
    "xgb.fit(X_train, y_train)\n",
    "print(xgb.score(X_train, y_train))\n",
    "print(xgb.score(X_val, y_val))"
   ]
  },
  {
   "cell_type": "markdown",
   "metadata": {},
   "source": [
    "# We look at the best score on training and validation, making sure that it was not overfitted."
   ]
  },
  {
   "cell_type": "code",
   "execution_count": 15,
   "metadata": {},
   "outputs": [
    {
     "data": {
      "text/plain": [
       "-1.518411394336539"
      ]
     },
     "execution_count": 15,
     "metadata": {},
     "output_type": "execute_result"
    }
   ],
   "source": [
    "# Evaluate the mlp model on the test set\n",
    "mlp.score(X_test, y_test)"
   ]
  },
  {
   "cell_type": "code",
   "execution_count": 16,
   "metadata": {},
   "outputs": [
    {
     "name": "stdout",
     "output_type": "stream",
     "text": [
      "Connected. Call `.close()` to terminate connection gracefully.\n"
     ]
    },
    {
     "name": "stderr",
     "output_type": "stream",
     "text": [
      "Uploading: 100.000%|██████████| 30415/30415 elapsed<00:01 remaining<00:001,  3.21it/s]\n",
      "Uploading: 100.000%|██████████| 714/714 elapsed<00:01 remaining<00:00<00:04,  1.19s/it]\n",
      "Model export complete: 100%|██████████| 6/6 [00:08<00:00,  1.49s/it]                   "
     ]
    },
    {
     "name": "stdout",
     "output_type": "stream",
     "text": [
      "Model created, explore it at https://c.app.hopsworks.ai:443/p/194708/models/sthlm_incidents_model/4\n"
     ]
    },
    {
     "name": "stderr",
     "output_type": "stream",
     "text": [
      "\n"
     ]
    },
    {
     "data": {
      "text/plain": [
       "Model(name: 'sthlm_incidents_model', version: 4)"
      ]
     },
     "execution_count": 16,
     "metadata": {},
     "output_type": "execute_result"
    }
   ],
   "source": [
    "# We put it in the model registry\n",
    "model = mlp\n",
    "mr = project.get_model_registry()\n",
    "\n",
    "# Create a schema for the model\n",
    "model_dir=\"sthlm_incidents_model\"\n",
    "if os.path.isdir(model_dir) == False:\n",
    "    os.mkdir(model_dir)\n",
    "\n",
    "# Save it on the disk \n",
    "joblib.dump(model, model_dir + \"/sthlm_model.pkl\")\n",
    "\n",
    "# Specify the schema of the model's input/output using the features (X_train) and labels (y_train)\n",
    "input_schema = Schema(X_train)\n",
    "output_schema = Schema(y_train)\n",
    "model_schema = ModelSchema(input_schema, output_schema)\n",
    "\n",
    "# Create an entry in the model registry that includes the model's name, desc, metrics\n",
    "incidents_model = mr.python.create_model(\n",
    "    name=\"sthlm_incidents_model\", \n",
    "    metrics={\"MSE\" : svr.score(X_test, y_test)},\n",
    "    model_schema=model_schema,\n",
    "    description=\"Stockholm Incident Duration Model\"\n",
    ")\n",
    "\n",
    "# Upload the model to the model registry, including all files in 'model_dir'\n",
    "incidents_model.save(model_dir)"
   ]
  }
 ],
 "metadata": {
  "kernelspec": {
   "display_name": "Python 3",
   "language": "python",
   "name": "python3"
  },
  "language_info": {
   "codemirror_mode": {
    "name": "ipython",
    "version": 3
   },
   "file_extension": ".py",
   "mimetype": "text/x-python",
   "name": "python",
   "nbconvert_exporter": "python",
   "pygments_lexer": "ipython3",
   "version": "3.11.6"
  }
 },
 "nbformat": 4,
 "nbformat_minor": 2
}
