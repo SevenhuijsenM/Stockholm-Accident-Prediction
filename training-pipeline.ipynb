{
 "cells": [
  {
   "cell_type": "code",
   "execution_count": 1,
   "metadata": {},
   "outputs": [
    {
     "name": "stderr",
     "output_type": "stream",
     "text": [
      "C:\\Users\\ merlijn\\AppData\\Local\\Packages\\PythonSoftwareFoundation.Python.3.11_qbz5n2kfra8p0\\LocalCache\\local-packages\\Python311\\site-packages\\tqdm\\auto.py:21: TqdmWarning: IProgress not found. Please update jupyter and ipywidgets. See https://ipywidgets.readthedocs.io/en/stable/user_install.html\n",
      "  from .autonotebook import tqdm as notebook_tqdm\n"
     ]
    }
   ],
   "source": [
    "# Import packages that are useful\n",
    "import hopsworks\n",
    "from hsml.schema import Schema\n",
    "from hsml.model_schema import ModelSchema\n",
    "import joblib\n",
    "import os\n",
    "import pandas as pd\n",
    "from sklearn.model_selection import cross_val_score\n",
    "from sklearn.preprocessing import LabelEncoder\n",
    "import os\n",
    "import numpy as np\n"
   ]
  },
  {
   "cell_type": "code",
   "execution_count": 3,
   "metadata": {},
   "outputs": [
    {
     "name": "stdout",
     "output_type": "stream",
     "text": [
      "<class 'pandas.core.frame.DataFrame'>\n",
      "Index: 1110 entries, 0 to 1137\n",
      "Data columns (total 12 columns):\n",
      " #   Column            Non-Null Count  Dtype  \n",
      "---  ------            --------------  -----  \n",
      " 0   id                1110 non-null   object \n",
      " 1   code              1110 non-null   int64  \n",
      " 2   description       1110 non-null   object \n",
      " 3   endTime           1110 non-null   object \n",
      " 4   hour              1110 non-null   int64  \n",
      " 5   iconCategory      1110 non-null   int64  \n",
      " 6   latitude          1110 non-null   float64\n",
      " 7   longitude         1110 non-null   float64\n",
      " 8   magnitudeOfDelay  1110 non-null   int64  \n",
      " 9   month             1110 non-null   int64  \n",
      " 10  startTime         1110 non-null   object \n",
      " 11  type              1110 non-null   object \n",
      "dtypes: float64(2), int64(5), object(5)\n",
      "memory usage: 112.7+ KB\n"
     ]
    }
   ],
   "source": [
    "# Read the data from incidents.csv and print the number of incidents per day\n",
    "df = pd.read_csv(\"incidents-v1.csv\")\n",
    "\n",
    "# Drop the features with too many missing values\n",
    "df = df.drop(columns=[\"apparent_temperature\", \"date\", \"dew_point_2m\", \"is_day\", \"precipitation\", \"et0_fao_evapotranspiration\", \"rain\", \"snow_depth\", \"snowfall\", \"soil_temperature_0_to_7cm\", \"weather_code\", \"wind_speed_10m\", \"surface_pressure\", \"sunshine_duration\", \"relative_humidity_2m\", \"temperature_2m\", \"vapour_pressure_deficit\", \"Unnamed: 0.4\", \"Unnamed: 0.3\", \"Unnamed: 0.2\", \"Unnamed: 0.1\", \"Unnamed: 0\"])\n",
    "\n",
    "# Remove rows with no end time\n",
    "df = df.dropna()\n",
    "df.info()"
   ]
  },
  {
   "cell_type": "code",
   "execution_count": 4,
   "metadata": {},
   "outputs": [],
   "source": [
    "# Get the labels by getting the difference between start and end time\n",
    "df['duration'] = pd.to_datetime(df[\"endTime\"]) - pd.to_datetime(df[\"startTime\"])\n",
    "\n",
    "# Remove the start time and end time columns\n",
    "df = df.drop([\"startTime\", \"endTime\", \"type\", \"id\", \"description\"], axis=1)\n"
   ]
  },
  {
   "cell_type": "code",
   "execution_count": 5,
   "metadata": {},
   "outputs": [
    {
     "data": {
      "text/html": [
       "<div>\n",
       "<style scoped>\n",
       "    .dataframe tbody tr th:only-of-type {\n",
       "        vertical-align: middle;\n",
       "    }\n",
       "\n",
       "    .dataframe tbody tr th {\n",
       "        vertical-align: top;\n",
       "    }\n",
       "\n",
       "    .dataframe thead th {\n",
       "        text-align: right;\n",
       "    }\n",
       "</style>\n",
       "<table border=\"1\" class=\"dataframe\">\n",
       "  <thead>\n",
       "    <tr style=\"text-align: right;\">\n",
       "      <th></th>\n",
       "      <th>code</th>\n",
       "      <th>hour</th>\n",
       "      <th>iconCategory</th>\n",
       "      <th>latitude</th>\n",
       "      <th>longitude</th>\n",
       "      <th>magnitudeOfDelay</th>\n",
       "      <th>month</th>\n",
       "      <th>duration</th>\n",
       "    </tr>\n",
       "  </thead>\n",
       "  <tbody>\n",
       "    <tr>\n",
       "      <th>count</th>\n",
       "      <td>1110.000000</td>\n",
       "      <td>1110.000000</td>\n",
       "      <td>1110.000000</td>\n",
       "      <td>1110.000000</td>\n",
       "      <td>1110.000000</td>\n",
       "      <td>1110.000000</td>\n",
       "      <td>1110.000000</td>\n",
       "      <td>1110</td>\n",
       "    </tr>\n",
       "    <tr>\n",
       "      <th>mean</th>\n",
       "      <td>197.289189</td>\n",
       "      <td>13.756757</td>\n",
       "      <td>6.096396</td>\n",
       "      <td>59.319866</td>\n",
       "      <td>18.057985</td>\n",
       "      <td>1.850450</td>\n",
       "      <td>11.905405</td>\n",
       "      <td>11 days 14:13:02.545045045</td>\n",
       "    </tr>\n",
       "    <tr>\n",
       "      <th>std</th>\n",
       "      <td>255.011017</td>\n",
       "      <td>5.095333</td>\n",
       "      <td>1.348507</td>\n",
       "      <td>0.036881</td>\n",
       "      <td>0.041765</td>\n",
       "      <td>1.068094</td>\n",
       "      <td>0.808581</td>\n",
       "      <td>114 days 00:42:07.801110800</td>\n",
       "    </tr>\n",
       "    <tr>\n",
       "      <th>min</th>\n",
       "      <td>101.000000</td>\n",
       "      <td>0.000000</td>\n",
       "      <td>1.000000</td>\n",
       "      <td>59.198197</td>\n",
       "      <td>17.870475</td>\n",
       "      <td>0.000000</td>\n",
       "      <td>1.000000</td>\n",
       "      <td>0 days 00:08:00</td>\n",
       "    </tr>\n",
       "    <tr>\n",
       "      <th>25%</th>\n",
       "      <td>101.000000</td>\n",
       "      <td>11.000000</td>\n",
       "      <td>6.000000</td>\n",
       "      <td>59.296146</td>\n",
       "      <td>18.025949</td>\n",
       "      <td>1.000000</td>\n",
       "      <td>12.000000</td>\n",
       "      <td>0 days 01:05:06.250000</td>\n",
       "    </tr>\n",
       "    <tr>\n",
       "      <th>50%</th>\n",
       "      <td>108.000000</td>\n",
       "      <td>14.000000</td>\n",
       "      <td>6.000000</td>\n",
       "      <td>59.320930</td>\n",
       "      <td>18.057546</td>\n",
       "      <td>2.000000</td>\n",
       "      <td>12.000000</td>\n",
       "      <td>0 days 01:08:36.500000</td>\n",
       "    </tr>\n",
       "    <tr>\n",
       "      <th>75%</th>\n",
       "      <td>115.000000</td>\n",
       "      <td>17.000000</td>\n",
       "      <td>6.000000</td>\n",
       "      <td>59.345150</td>\n",
       "      <td>18.088704</td>\n",
       "      <td>3.000000</td>\n",
       "      <td>12.000000</td>\n",
       "      <td>0 days 01:22:46.750000</td>\n",
       "    </tr>\n",
       "    <tr>\n",
       "      <th>max</th>\n",
       "      <td>1472.000000</td>\n",
       "      <td>23.000000</td>\n",
       "      <td>14.000000</td>\n",
       "      <td>59.446342</td>\n",
       "      <td>18.287681</td>\n",
       "      <td>4.000000</td>\n",
       "      <td>12.000000</td>\n",
       "      <td>1617 days 01:00:00</td>\n",
       "    </tr>\n",
       "  </tbody>\n",
       "</table>\n",
       "</div>"
      ],
      "text/plain": [
       "              code         hour  iconCategory     latitude    longitude  \\\n",
       "count  1110.000000  1110.000000   1110.000000  1110.000000  1110.000000   \n",
       "mean    197.289189    13.756757      6.096396    59.319866    18.057985   \n",
       "std     255.011017     5.095333      1.348507     0.036881     0.041765   \n",
       "min     101.000000     0.000000      1.000000    59.198197    17.870475   \n",
       "25%     101.000000    11.000000      6.000000    59.296146    18.025949   \n",
       "50%     108.000000    14.000000      6.000000    59.320930    18.057546   \n",
       "75%     115.000000    17.000000      6.000000    59.345150    18.088704   \n",
       "max    1472.000000    23.000000     14.000000    59.446342    18.287681   \n",
       "\n",
       "       magnitudeOfDelay        month                     duration  \n",
       "count       1110.000000  1110.000000                         1110  \n",
       "mean           1.850450    11.905405   11 days 14:13:02.545045045  \n",
       "std            1.068094     0.808581  114 days 00:42:07.801110800  \n",
       "min            0.000000     1.000000              0 days 00:08:00  \n",
       "25%            1.000000    12.000000       0 days 01:05:06.250000  \n",
       "50%            2.000000    12.000000       0 days 01:08:36.500000  \n",
       "75%            3.000000    12.000000       0 days 01:22:46.750000  \n",
       "max            4.000000    12.000000           1617 days 01:00:00  "
      ]
     },
     "execution_count": 5,
     "metadata": {},
     "output_type": "execute_result"
    }
   ],
   "source": [
    "# use the label encoder to encode the description feature\n",
    "# le = LabelEncoder()\n",
    "# le.fit(df[\"description\"])\n",
    "# df[\"description\"] = le.transform(df[\"description\"])\n",
    "\n",
    "# Remove the id column\n",
    "#df = df.drop(\"id\", axis=1)\n",
    "\n",
    "df.describe()"
   ]
  },
  {
   "cell_type": "code",
   "execution_count": 6,
   "metadata": {},
   "outputs": [],
   "source": [
    "# Convert the duration to seconds\n",
    "df[\"duration\"] = df[\"duration\"].dt.total_seconds()\n",
    "\n",
    "# Use a log scale for the duration\n",
    "df[\"duration\"] = df[\"duration\"].astype(\"int64\")\n",
    "df[\"duration\"] = np.log(df[\"duration\"])\n",
    "y = df[\"duration\"]\n",
    "\n",
    "# create the x values without dropping the duration in the df\n",
    "X = df.drop(\"duration\", axis=1)\n"
   ]
  },
  {
   "cell_type": "code",
   "execution_count": 7,
   "metadata": {},
   "outputs": [
    {
     "data": {
      "text/plain": [
       "0.8720942193041452"
      ]
     },
     "execution_count": 7,
     "metadata": {},
     "output_type": "execute_result"
    }
   ],
   "source": [
    "# Try a linear regression model\n",
    "from sklearn.linear_model import LinearRegression\n",
    "lr = LinearRegression()\n",
    "\n",
    "# train and test the model\n",
    "from sklearn.model_selection import train_test_split\n",
    "X_train, X_test, y_train, y_test = train_test_split(X, y)\n",
    "lr.fit(X_train, y_train)\n",
    "lr.score(X_test, y_test)"
   ]
  },
  {
   "cell_type": "code",
   "execution_count": 8,
   "metadata": {},
   "outputs": [
    {
     "name": "stdout",
     "output_type": "stream",
     "text": [
      "Connected. Call `.close()` to terminate connection gracefully.\n",
      "\n",
      "Logged in to project, explore it here https://c.app.hopsworks.ai:443/p/194708\n",
      "Connected. Call `.close()` to terminate connection gracefully.\n"
     ]
    }
   ],
   "source": [
    "import hopsworks\n",
    "\n",
    "# Log in to Hopsworks\n",
    "project = hopsworks.login()\n",
    "fs = project.get_feature_store()"
   ]
  },
  {
   "cell_type": "code",
   "execution_count": 10,
   "metadata": {},
   "outputs": [
    {
     "name": "stderr",
     "output_type": "stream",
     "text": [
      "Uploading Dataframe: 100.00% |██████████| Rows 1110/1110 | Elapsed Time: 00:05 | Remaining Time: 00:00\n"
     ]
    },
    {
     "name": "stdout",
     "output_type": "stream",
     "text": [
      "Launching job: incidents_1_offline_fg_materialization\n",
      "Job started successfully, you can follow the progress at \n",
      "https://c.app.hopsworks.ai/p/194708/jobs/named/incidents_1_offline_fg_materialization/executions\n"
     ]
    },
    {
     "data": {
      "text/plain": [
       "(<hsfs.core.job.Job at 0x21680730f50>, None)"
      ]
     },
     "execution_count": 10,
     "metadata": {},
     "output_type": "execute_result"
    }
   ],
   "source": [
    "# Make the columns lowercase \n",
    "df.columns = df.columns.str.lower()\n",
    "df.columns = df.columns.str.replace(' ', '_')\n",
    "\n",
    "# Create the feature group\n",
    "# fg = fs.create_feature_group(\"incidents\", version=1, description=\"Incidents in the city of Stockholm\", \n",
    "#                              primary_key=df.columns.tolist(),)\n",
    "fg = fs.get_feature_group(\"incidents\", version=1)\n",
    "fg.insert(df)"
   ]
  },
  {
   "cell_type": "code",
   "execution_count": 11,
   "metadata": {},
   "outputs": [
    {
     "name": "stdout",
     "output_type": "stream",
     "text": [
      "Finished: Reading data from Hopsworks, using ArrowFlight (0.94s) \n"
     ]
    },
    {
     "name": "stderr",
     "output_type": "stream",
     "text": [
      "VersionWarning: Incremented version to `2`.\n"
     ]
    }
   ],
   "source": [
    "query = fg.select_all()\n",
    "feature_view = fs.get_or_create_feature_view(\"incidents_view\", version=1, description=\"Incidents in the city of Stockholm\",  labels=[\"duration\"], query=query)\n",
    "X_train, X_val, X_test, y_train, y_val, y_test = feature_view.train_validation_test_split(0.1, 0.1)\n"
   ]
  },
  {
   "cell_type": "code",
   "execution_count": 12,
   "metadata": {},
   "outputs": [],
   "source": [
    "# Train a linear regression model\n",
    "from sklearn.linear_model import LinearRegression\n",
    "lr = LinearRegression()\n",
    "\n",
    "# train and test the model\n",
    "lr.fit(X_train, y_train)\n",
    "metric = lr.score(X_test, y_test)"
   ]
  },
  {
   "cell_type": "code",
   "execution_count": 13,
   "metadata": {},
   "outputs": [
    {
     "name": "stdout",
     "output_type": "stream",
     "text": [
      "Connected. Call `.close()` to terminate connection gracefully.\n"
     ]
    },
    {
     "name": "stderr",
     "output_type": "stream",
     "text": [
      "Uploading: 100.000%|██████████| 1071/1071 elapsed<00:01 remaining<00:00:01,  3.27it/s]\n",
      "Uploading: 100.000%|██████████| 714/714 elapsed<00:01 remaining<00:00<00:04,  1.10s/it]\n",
      "Model export complete: 100%|██████████| 6/6 [00:09<00:00,  1.55s/it]                   "
     ]
    },
    {
     "name": "stdout",
     "output_type": "stream",
     "text": [
      "Model created, explore it at https://c.app.hopsworks.ai:443/p/194708/models/stockholm_incidents_model/1\n"
     ]
    },
    {
     "name": "stderr",
     "output_type": "stream",
     "text": [
      "\n"
     ]
    },
    {
     "data": {
      "text/plain": [
       "Model(name: 'stockholm_incidents_model', version: 1)"
      ]
     },
     "execution_count": 13,
     "metadata": {},
     "output_type": "execute_result"
    }
   ],
   "source": [
    "# We will now upload the linear regression model to the registry\n",
    "mr = project.get_model_registry()\n",
    "\n",
    "# The directory will be wine_model\n",
    "model_dir=\"stockholm_incidents_model\"\n",
    "if os.path.isdir(model_dir) == False:\n",
    "    os.mkdir(model_dir)\n",
    "\n",
    "# Save the model\n",
    "joblib.dump(lr, model_dir + \"/stckhlm_inc_model.pkl\")\n",
    "\n",
    "# Specify the input and output\n",
    "input_schema = Schema(X_train)\n",
    "output_schema = Schema(y_train)\n",
    "model_schema = ModelSchema(input_schema, output_schema)\n",
    "\n",
    "# Create an entry\n",
    "wine_model = mr.python.create_model(\n",
    "    name=\"stockholm_incidents_model\", \n",
    "    metrics={\"MSE\" : metric},\n",
    "    model_schema=model_schema,\n",
    "    description=\"Stockholm Incident duration Predictor\"\n",
    ")\n",
    "\n",
    "# Upload the model to the model registry, including all files in 'model_dir'\n",
    "wine_model.save(model_dir)"
   ]
  }
 ],
 "metadata": {
  "kernelspec": {
   "display_name": "Python 3",
   "language": "python",
   "name": "python3"
  },
  "language_info": {
   "codemirror_mode": {
    "name": "ipython",
    "version": 3
   },
   "file_extension": ".py",
   "mimetype": "text/x-python",
   "name": "python",
   "nbconvert_exporter": "python",
   "pygments_lexer": "ipython3",
   "version": "3.11.6"
  }
 },
 "nbformat": 4,
 "nbformat_minor": 2
}
