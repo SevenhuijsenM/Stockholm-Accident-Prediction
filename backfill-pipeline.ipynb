{
 "cells": [
  {
   "cell_type": "code",
   "execution_count": 75,
   "metadata": {},
   "outputs": [],
   "source": [
    "import pandas as pd\n",
    "import seaborn as sns\n",
    "sns.set_palette('husl')\n",
    "import matplotlib.pyplot as plt\n",
    "%matplotlib inline\n",
    "import hopsworks\n",
    "from helper import *\n",
    "from datetime import datetime"
   ]
  },
  {
   "cell_type": "code",
   "execution_count": 76,
   "metadata": {},
   "outputs": [
    {
     "name": "stdout",
     "output_type": "stream",
     "text": [
      "Connection closed.\n",
      "Connected. Call `.close()` to terminate connection gracefully.\n",
      "\n",
      "Logged in to project, explore it here https://c.app.hopsworks.ai:443/p/194708\n",
      "Connected. Call `.close()` to terminate connection gracefully.\n"
     ]
    }
   ],
   "source": [
    "project = hopsworks.login()\n",
    "fs = project.get_feature_store()"
   ]
  },
  {
   "cell_type": "code",
   "execution_count": 77,
   "metadata": {},
   "outputs": [],
   "source": [
    "# Import the data that was obtained locally from running\n",
    "df = pd.read_csv('incidents-v1.csv')"
   ]
  },
  {
   "cell_type": "code",
   "execution_count": 78,
   "metadata": {},
   "outputs": [],
   "source": [
    "# Conver the startTime and endTime to datetime\n",
    "df['startTime'] = pd.to_datetime(df['startTime'])\n",
    "df['endTime'] = pd.to_datetime(df['endTime'])"
   ]
  },
  {
   "cell_type": "code",
   "execution_count": 79,
   "metadata": {},
   "outputs": [
    {
     "name": "stdout",
     "output_type": "stream",
     "text": [
      "<class 'pandas.core.frame.DataFrame'>\n",
      "RangeIndex: 1038 entries, 0 to 1037\n",
      "Data columns (total 12 columns):\n",
      " #   Column            Non-Null Count  Dtype              \n",
      "---  ------            --------------  -----              \n",
      " 0   id                1038 non-null   object             \n",
      " 1   code              1038 non-null   int64              \n",
      " 2   description       1038 non-null   object             \n",
      " 3   endTime           1038 non-null   datetime64[ns, UTC]\n",
      " 4   hour              1038 non-null   int64              \n",
      " 5   iconCategory      1038 non-null   int64              \n",
      " 6   latitude          1038 non-null   float64            \n",
      " 7   longitude         1038 non-null   float64            \n",
      " 8   magnitudeOfDelay  1038 non-null   int64              \n",
      " 9   month             1038 non-null   int64              \n",
      " 10  startTime         1038 non-null   datetime64[ns, UTC]\n",
      " 11  type              1038 non-null   object             \n",
      "dtypes: datetime64[ns, UTC](2), float64(2), int64(5), object(3)\n",
      "memory usage: 97.4+ KB\n",
      "None\n",
      "              code         hour  iconCategory     latitude    longitude  \\\n",
      "count  1038.000000  1038.000000   1038.000000  1038.000000  1038.000000   \n",
      "mean    175.550096    13.496146      6.080925    59.319479    18.057898   \n",
      "std     222.892839     5.064243      1.333929     0.036933     0.041641   \n",
      "min     101.000000     0.000000      1.000000    59.198197    17.870475   \n",
      "25%     101.000000    11.000000      6.000000    59.296141    18.026394   \n",
      "50%     108.000000    13.000000      6.000000    59.320702    18.057691   \n",
      "75%     115.000000    16.000000      6.000000    59.344951    18.088439   \n",
      "max    1472.000000    23.000000     14.000000    59.446342    18.287681   \n",
      "\n",
      "       magnitudeOfDelay        month  \n",
      "count       1038.000000  1038.000000  \n",
      "mean           1.884393    11.980732  \n",
      "std            1.056790     0.319134  \n",
      "min            0.000000     6.000000  \n",
      "25%            1.000000    12.000000  \n",
      "50%            2.000000    12.000000  \n",
      "75%            3.000000    12.000000  \n",
      "max            4.000000    12.000000  \n"
     ]
    }
   ],
   "source": [
    "# Get information about the data from the incidents\n",
    "print(df.info())\n",
    "print(df.describe())"
   ]
  },
  {
   "cell_type": "code",
   "execution_count": 80,
   "metadata": {},
   "outputs": [],
   "source": [
    "# Add the duration column\n",
    "df['duration'] = df['endTime'] - df['startTime']"
   ]
  },
  {
   "cell_type": "code",
   "execution_count": 81,
   "metadata": {},
   "outputs": [
    {
     "name": "stdout",
     "output_type": "stream",
     "text": [
      "0   0 days 01:06:35\n",
      "1   0 days 01:24:06\n",
      "2   0 days 01:34:06\n",
      "3   0 days 01:34:06\n",
      "4   0 days 01:05:06\n",
      "Name: duration, dtype: timedelta64[ns]\n",
      "0 days 16:26:14.104046242\n",
      "10 days 06:22:24.345620809\n"
     ]
    },
    {
     "data": {
      "text/plain": [
       "(array([1.034e+03, 0.000e+00, 0.000e+00, 0.000e+00, 0.000e+00, 0.000e+00,\n",
       "        0.000e+00, 0.000e+00, 0.000e+00, 0.000e+00, 0.000e+00, 1.000e+00,\n",
       "        0.000e+00, 0.000e+00, 0.000e+00, 0.000e+00, 0.000e+00, 0.000e+00,\n",
       "        0.000e+00, 3.000e+00]),\n",
       " array([3.7870000e+03, 7.9915900e+05, 1.5945310e+06, 2.3899030e+06,\n",
       "        3.1852750e+06, 3.9806470e+06, 4.7760190e+06, 5.5713910e+06,\n",
       "        6.3667630e+06, 7.1621350e+06, 7.9575070e+06, 8.7528790e+06,\n",
       "        9.5482510e+06, 1.0343623e+07, 1.1138995e+07, 1.1934367e+07,\n",
       "        1.2729739e+07, 1.3525111e+07, 1.4320483e+07, 1.5115855e+07,\n",
       "        1.5911227e+07]),\n",
       " <BarContainer object of 20 artists>)"
      ]
     },
     "execution_count": 81,
     "metadata": {},
     "output_type": "execute_result"
    },
    {
     "data": {
      "image/png": "[encoded data removed]",
      "text/plain": [
       "<Figure size 640x480 with 1 Axes>"
      ]
     },
     "metadata": {},
     "output_type": "display_data"
    }
   ],
   "source": [
    "# Inspect the duration column\n",
    "print(df['duration'].head())\n",
    "\n",
    "# Print the mean and standard deviation of the duration\n",
    "print(df['duration'].mean())\n",
    "print(df['duration'].std())\n",
    "\n",
    "# Plot the histogram of the duration\n",
    "import matplotlib.pyplot as plt\n",
    "plt.hist(df['duration'].dt.total_seconds(), bins=20)"
   ]
  },
  {
   "cell_type": "code",
   "execution_count": 82,
   "metadata": {},
   "outputs": [
    {
     "name": "stdout",
     "output_type": "stream",
     "text": [
      "1032\n"
     ]
    },
    {
     "data": {
      "text/plain": [
       "(array([793., 144.,  51.,  12.,   8.,   5.,   5.,   1.,   4.,   0.,   1.,\n",
       "          1.,   0.,   2.,   0.,   0.,   1.,   0.,   0.,   4.]),\n",
       " array([ 3787.  ,  5014.75,  6242.5 ,  7470.25,  8698.  ,  9925.75,\n",
       "        11153.5 , 12381.25, 13609.  , 14836.75, 16064.5 , 17292.25,\n",
       "        18520.  , 19747.75, 20975.5 , 22203.25, 23431.  , 24658.75,\n",
       "        25886.5 , 27114.25, 28342.  ]),\n",
       " <BarContainer object of 20 artists>)"
      ]
     },
     "execution_count": 82,
     "metadata": {},
     "output_type": "execute_result"
    },
    {
     "data": {
      "image/png": "[encoded data removed]",
      "text/plain": [
       "<Figure size 640x480 with 1 Axes>"
      ]
     },
     "metadata": {},
     "output_type": "display_data"
    }
   ],
   "source": [
    "# We see that  there are outliers in the data. Let's remove them\n",
    "\n",
    "df = df[df['duration'] < '1 days']\n",
    "# Calculate the mean and standard deviation of the duration\n",
    "mean = df['duration'].mean()\n",
    "std = df['duration'].std()\n",
    "print(len(df['duration']))\n",
    "\n",
    "# Plot the histogram with the mean and standard deviation\n",
    "plt.hist(df['duration'].dt.total_seconds(), bins=20)"
   ]
  },
  {
   "cell_type": "code",
   "execution_count": 83,
   "metadata": {},
   "outputs": [
    {
     "name": "stdout",
     "output_type": "stream",
     "text": [
      "Feature Group created successfully, explore it at \n",
      "https://c.app.hopsworks.ai:443/p/194708/fs/194627/fg/409977\n"
     ]
    },
    {
     "name": "stderr",
     "output_type": "stream",
     "text": [
      "Uploading Dataframe: 100.00% |██████████| Rows 1032/1032 | Elapsed Time: 00:05 | Remaining Time: 00:00\n"
     ]
    },
    {
     "name": "stdout",
     "output_type": "stream",
     "text": [
      "Launching job: sthlm_incidents_1_offline_fg_materialization\n",
      "Job started successfully, you can follow the progress at \n",
      "https://c.app.hopsworks.ai/p/194708/jobs/named/sthlm_incidents_1_offline_fg_materialization/executions\n"
     ]
    },
    {
     "data": {
      "text/plain": [
       "(<hsfs.core.job.Job at 0x17db2fc9590>, None)"
      ]
     },
     "execution_count": 83,
     "metadata": {},
     "output_type": "execute_result"
    }
   ],
   "source": [
    "# Make the column names lowercase\n",
    "df.columns = df.columns.str.lower()\n",
    "\n",
    "# Insert the dataframe into the feature store\n",
    "primary_key = ['id']\n",
    "\n",
    "# Conver the duration to seconds\n",
    "df['duration'] = df['duration'].dt.total_seconds()\n",
    "\n",
    "incidents_fg = fs.get_or_create_feature_group(\n",
    "    name=\"sthlm_incidents\",\n",
    "    version=1,\n",
    "    primary_key=primary_key, \n",
    "    description=\"Stockholm Incidents Dataset\")\n",
    "incidents_fg.insert(df)"
   ]
  }
 ],
 "metadata": {
  "kernelspec": {
   "display_name": "Python 3",
   "language": "python",
   "name": "python3"
  },
  "language_info": {
   "codemirror_mode": {
    "name": "ipython",
    "version": 3
   },
   "file_extension": ".py",
   "mimetype": "text/x-python",
   "name": "python",
   "nbconvert_exporter": "python",
   "pygments_lexer": "ipython3",
   "version": "3.11.6"
  }
 },
 "nbformat": 4,
 "nbformat_minor": 2
}
