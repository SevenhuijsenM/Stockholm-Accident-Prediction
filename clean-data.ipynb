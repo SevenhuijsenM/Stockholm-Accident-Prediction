{
 "cells": [
  {
   "cell_type": "code",
   "execution_count": 2,
   "metadata": {},
   "outputs": [],
   "source": [
    "import pandas as pd\n"
   ]
  },
  {
   "cell_type": "code",
   "execution_count": 3,
   "metadata": {},
   "outputs": [],
   "source": [
    "# Import the data\n",
    "df = pd.read_csv('incidents.csv')"
   ]
  },
  {
   "cell_type": "code",
   "execution_count": 34,
   "metadata": {},
   "outputs": [
    {
     "name": "stdout",
     "output_type": "stream",
     "text": [
      "Index(['id', 'code', 'description', 'endTime', 'hour', 'iconCategory',\n",
      "       'latitude', 'longitude', 'magnitudeOfDelay', 'month', 'startTime',\n",
      "       'type'],\n",
      "      dtype='object')\n",
      "              code         hour  iconCategory     latitude    longitude  \\\n",
      "count  1038.000000  1038.000000   1038.000000  1038.000000  1038.000000   \n",
      "mean    175.550096    13.496146      6.080925    59.319479    18.057898   \n",
      "std     222.892839     5.064243      1.333929     0.036933     0.041641   \n",
      "min     101.000000     0.000000      1.000000    59.198197    17.870475   \n",
      "25%     101.000000    11.000000      6.000000    59.296141    18.026394   \n",
      "50%     108.000000    13.000000      6.000000    59.320702    18.057691   \n",
      "75%     115.000000    16.000000      6.000000    59.344951    18.088439   \n",
      "max    1472.000000    23.000000     14.000000    59.446342    18.287681   \n",
      "\n",
      "       magnitudeOfDelay        month  \n",
      "count       1038.000000  1038.000000  \n",
      "mean           1.884393    11.980732  \n",
      "std            1.056790     0.319134  \n",
      "min            0.000000     6.000000  \n",
      "25%            1.000000    12.000000  \n",
      "50%            2.000000    12.000000  \n",
      "75%            3.000000    12.000000  \n",
      "max            4.000000    12.000000  \n",
      "                                   id  code     description  \\\n",
      "100  a301476e8016087dde51e079bd787fea  1101  Heavy snowfall   \n",
      "101  132d6840a8b7948d9f1be29c343646ac  1101  Heavy snowfall   \n",
      "102  bac985b910a89a2c35bf1e412cd9988c  1101  Heavy snowfall   \n",
      "103  6faf973f907fd3c86214d95211cfae95  1101  Heavy snowfall   \n",
      "104  84b9e84db08fd377a89364cbc4804663   115    Slow traffic   \n",
      "\n",
      "                  endTime  hour  iconCategory   latitude  longitude  \\\n",
      "100  2023-12-24T21:41:35Z    20             5  59.307582  18.010944   \n",
      "101  2023-12-24T21:43:36Z    20             5  59.373402  18.018470   \n",
      "102  2023-12-24T21:45:36Z    20             5  59.347061  18.030777   \n",
      "103  2023-12-24T21:45:36Z    20             5  59.399006  17.977137   \n",
      "104  2023-12-24T21:45:36Z    20             6  59.356260  18.060390   \n",
      "\n",
      "     magnitudeOfDelay  month             startTime     type  \n",
      "100                 1     12  2023-12-24T20:35:00Z  Feature  \n",
      "101                 1     12  2023-12-24T20:19:30Z  Feature  \n",
      "102                 1     12  2023-12-24T20:11:30Z  Feature  \n",
      "103                 1     12  2023-12-24T20:11:30Z  Feature  \n",
      "104                 1     12  2023-12-24T20:40:30Z  Feature  \n"
     ]
    }
   ],
   "source": [
    "# Remove the Unnamed columns\n",
    "df = df.loc[:, ~df.columns.str.contains('^date')]\n",
    "\n",
    "# print the column names\n",
    "print(df.columns)\n",
    "\n",
    "# Describe the data\n",
    "print(df.describe())\n",
    "\n",
    "# Print the first 5 rows\n",
    "print(df.head(5))"
   ]
  },
  {
   "cell_type": "code",
   "execution_count": 37,
   "metadata": {},
   "outputs": [],
   "source": [
    "# Save the data to a new csv file called incidents-v1.csv\n",
    "df.to_csv('incidents-v1.csv', index=False)"
   ]
  }
 ],
 "metadata": {
  "kernelspec": {
   "display_name": "Python 3",
   "language": "python",
   "name": "python3"
  },
  "language_info": {
   "codemirror_mode": {
    "name": "ipython",
    "version": 3
   },
   "file_extension": ".py",
   "mimetype": "text/x-python",
   "name": "python",
   "nbconvert_exporter": "python",
   "pygments_lexer": "ipython3",
   "version": "3.11.6"
  }
 },
 "nbformat": 4,
 "nbformat_minor": 2
}
